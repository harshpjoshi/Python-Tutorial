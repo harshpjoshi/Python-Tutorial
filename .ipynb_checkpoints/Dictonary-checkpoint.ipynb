{
 "cells": [
  {
   "cell_type": "code",
   "execution_count": 1,
   "metadata": {},
   "outputs": [],
   "source": [
    "dict1 = {'name':'harsh','surname':'joshi','mobile':4567890,'city':'surat'}"
   ]
  },
  {
   "cell_type": "code",
   "execution_count": 2,
   "metadata": {},
   "outputs": [
    {
     "name": "stdout",
     "output_type": "stream",
     "text": [
      "{'name': 'harsh', 'surname': 'joshi', 'mobile': 4567890, 'city': 'surat'}\n"
     ]
    }
   ],
   "source": [
    "print(dict1)"
   ]
  },
  {
   "cell_type": "code",
   "execution_count": 3,
   "metadata": {},
   "outputs": [
    {
     "data": {
      "text/plain": [
       "True"
      ]
     },
     "execution_count": 3,
     "metadata": {},
     "output_type": "execute_result"
    }
   ],
   "source": [
    "dict2 = {'name':'harsh','surname':'joshi','mobile':4567890,'city':'surat'}\n",
    "dict3 = {'surname':'joshi','mobile':4567890,'name':'harsh','city':'surat'}\n",
    "dict2==dict3"
   ]
  },
  {
   "cell_type": "code",
   "execution_count": 9,
   "metadata": {},
   "outputs": [
    {
     "name": "stdout",
     "output_type": "stream",
     "text": [
      "('name', 'harsh')\n",
      "('surname', 'joshi')\n",
      "('mobile', 4567890)\n",
      "('city', 'surat')\n"
     ]
    }
   ],
   "source": [
    "for k in dict1.items():\n",
    "    print(k)"
   ]
  },
  {
   "cell_type": "code",
   "execution_count": 10,
   "metadata": {},
   "outputs": [
    {
     "name": "stdout",
     "output_type": "stream",
     "text": [
      "name\n",
      "surname\n",
      "mobile\n",
      "city\n"
     ]
    }
   ],
   "source": [
    "for k in dict1.keys():\n",
    "    print(k)"
   ]
  },
  {
   "cell_type": "code",
   "execution_count": 11,
   "metadata": {},
   "outputs": [
    {
     "name": "stdout",
     "output_type": "stream",
     "text": [
      "harsh\n",
      "joshi\n",
      "4567890\n",
      "surat\n"
     ]
    }
   ],
   "source": [
    "for k in dict1.values():\n",
    "    print(k)"
   ]
  },
  {
   "cell_type": "code",
   "execution_count": 12,
   "metadata": {},
   "outputs": [],
   "source": [
    "dict1['country']='India'"
   ]
  },
  {
   "cell_type": "code",
   "execution_count": 13,
   "metadata": {},
   "outputs": [
    {
     "data": {
      "text/plain": [
       "{'name': 'harsh',\n",
       " 'surname': 'joshi',\n",
       " 'mobile': 4567890,\n",
       " 'city': 'surat',\n",
       " 'country': 'India'}"
      ]
     },
     "execution_count": 13,
     "metadata": {},
     "output_type": "execute_result"
    }
   ],
   "source": [
    "dict1"
   ]
  },
  {
   "cell_type": "code",
   "execution_count": 14,
   "metadata": {},
   "outputs": [
    {
     "name": "stdout",
     "output_type": "stream",
     "text": [
      "Enter name:harsh\n",
      "Your dob is  3 aug\n",
      "Enter name:kanak\n",
      "Not available\n",
      "What is your name\n",
      "kanak\n",
      "ENter dob:\n",
      "5 june\n",
      "Successully Added\n",
      "{'harsh': '3 aug', 'abc': '4 sep', 'tyh': '6 jun', 'kanak': '5 june'}\n"
     ]
    }
   ],
   "source": [
    "dict3={\"harsh\":\"3 aug\",\"abc\":\"4 sep\",\"tyh\":\"6 jun\"}\n",
    "\n",
    "while True:\n",
    "    name=input(\"Enter name:\")\n",
    "    \n",
    "    if name==\"\":\n",
    "        break\n",
    "    \n",
    "    if name in dict3:\n",
    "        print(\"Your dob is \",dict3[name])\n",
    "    \n",
    "    else:\n",
    "        print(\"Not available\")\n",
    "        print(\"What is your name\")\n",
    "        name=input()\n",
    "        print(\"ENter dob:\")\n",
    "        dob=input()\n",
    "        dict3[name]=dob\n",
    "        print(\"Successully Added\")\n",
    "        print(dict3)\n",
    "        break\n",
    "        "
   ]
  },
  {
   "cell_type": "code",
   "execution_count": null,
   "metadata": {},
   "outputs": [],
   "source": []
  }
 ],
 "metadata": {
  "kernelspec": {
   "display_name": "Python 3",
   "language": "python",
   "name": "python3"
  },
  "language_info": {
   "codemirror_mode": {
    "name": "ipython",
    "version": 3
   },
   "file_extension": ".py",
   "mimetype": "text/x-python",
   "name": "python",
   "nbconvert_exporter": "python",
   "pygments_lexer": "ipython3",
   "version": "3.7.1"
  }
 },
 "nbformat": 4,
 "nbformat_minor": 2
}
