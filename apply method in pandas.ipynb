{
 "cells": [
  {
   "cell_type": "code",
   "execution_count": 1,
   "metadata": {},
   "outputs": [],
   "source": [
    "import pandas as pd"
   ]
  },
  {
   "cell_type": "code",
   "execution_count": 3,
   "metadata": {},
   "outputs": [],
   "source": [
    "google = pd.read_csv(\"csvs/google.csv\",squeeze=True)"
   ]
  },
  {
   "cell_type": "code",
   "execution_count": 5,
   "metadata": {},
   "outputs": [],
   "source": [
    "def classify_per(number):\n",
    "    if number<300:\n",
    "        return \"Ok\"\n",
    "    elif number>=300 and number<650:\n",
    "        return \"Satisfy\"\n",
    "    else:\n",
    "        return \"Incredable\"        "
   ]
  },
  {
   "cell_type": "code",
   "execution_count": 9,
   "metadata": {},
   "outputs": [
    {
     "data": {
      "text/plain": [
       "0               Ok\n",
       "1               Ok\n",
       "2               Ok\n",
       "3               Ok\n",
       "4               Ok\n",
       "5               Ok\n",
       "6               Ok\n",
       "7               Ok\n",
       "8               Ok\n",
       "9               Ok\n",
       "10              Ok\n",
       "11              Ok\n",
       "12              Ok\n",
       "13              Ok\n",
       "14              Ok\n",
       "15              Ok\n",
       "16              Ok\n",
       "17              Ok\n",
       "18              Ok\n",
       "19              Ok\n",
       "20              Ok\n",
       "21              Ok\n",
       "22              Ok\n",
       "23              Ok\n",
       "24              Ok\n",
       "25              Ok\n",
       "26              Ok\n",
       "27              Ok\n",
       "28              Ok\n",
       "29              Ok\n",
       "           ...    \n",
       "2982    Incredable\n",
       "2983    Incredable\n",
       "2984    Incredable\n",
       "2985    Incredable\n",
       "2986    Incredable\n",
       "2987    Incredable\n",
       "2988    Incredable\n",
       "2989    Incredable\n",
       "2990    Incredable\n",
       "2991    Incredable\n",
       "2992    Incredable\n",
       "2993    Incredable\n",
       "2994    Incredable\n",
       "2995    Incredable\n",
       "2996    Incredable\n",
       "2997    Incredable\n",
       "2998    Incredable\n",
       "2999    Incredable\n",
       "3000    Incredable\n",
       "3001    Incredable\n",
       "3002    Incredable\n",
       "3003    Incredable\n",
       "3004    Incredable\n",
       "3005    Incredable\n",
       "3006    Incredable\n",
       "3007    Incredable\n",
       "3008    Incredable\n",
       "3009    Incredable\n",
       "3010    Incredable\n",
       "3011    Incredable\n",
       "Name: Stock Price, Length: 3012, dtype: object"
      ]
     },
     "execution_count": 9,
     "metadata": {},
     "output_type": "execute_result"
    }
   ],
   "source": [
    "google.apply(classify_per)"
   ]
  },
  {
   "cell_type": "code",
   "execution_count": 10,
   "metadata": {},
   "outputs": [
    {
     "data": {
      "text/plain": [
       "0        51.12\n",
       "1        55.10\n",
       "2        55.65\n",
       "3        53.38\n",
       "4        53.95\n",
       "5        54.90\n",
       "6        54.02\n",
       "7        51.95\n",
       "8        52.13\n",
       "9        51.07\n",
       "10       51.70\n",
       "11       50.95\n",
       "12       51.74\n",
       "13       52.10\n",
       "14       52.10\n",
       "15       53.61\n",
       "16       54.70\n",
       "17       56.69\n",
       "18       56.94\n",
       "19       57.93\n",
       "20       59.69\n",
       "21       60.62\n",
       "22       59.86\n",
       "23       60.13\n",
       "24       61.35\n",
       "25       60.86\n",
       "26       60.07\n",
       "27       64.37\n",
       "28       66.47\n",
       "29       65.74\n",
       "         ...  \n",
       "2982    676.22\n",
       "2983    669.26\n",
       "2984    681.04\n",
       "2985    685.11\n",
       "2986    693.10\n",
       "2987    700.21\n",
       "2988    695.49\n",
       "2989    698.77\n",
       "2990    696.36\n",
       "2991    706.63\n",
       "2992    716.09\n",
       "2993    721.64\n",
       "2994    717.98\n",
       "2995    721.95\n",
       "2996    720.85\n",
       "2997    734.78\n",
       "2998    737.96\n",
       "2999    742.19\n",
       "3000    739.63\n",
       "3001    743.74\n",
       "3002    740.77\n",
       "3003    739.42\n",
       "3004    742.77\n",
       "3005    746.91\n",
       "3006    769.79\n",
       "3007    773.88\n",
       "3008    772.07\n",
       "3009    774.18\n",
       "3010    772.61\n",
       "3011    783.22\n",
       "Name: Stock Price, Length: 3012, dtype: float64"
      ]
     },
     "execution_count": 10,
     "metadata": {},
     "output_type": "execute_result"
    }
   ],
   "source": [
    "google.apply(lambda stock_price: stock_price+1)"
   ]
  },
  {
   "cell_type": "code",
   "execution_count": null,
   "metadata": {},
   "outputs": [],
   "source": []
  }
 ],
 "metadata": {
  "kernelspec": {
   "display_name": "Python 3",
   "language": "python",
   "name": "python3"
  },
  "language_info": {
   "codemirror_mode": {
    "name": "ipython",
    "version": 3
   },
   "file_extension": ".py",
   "mimetype": "text/x-python",
   "name": "python",
   "nbconvert_exporter": "python",
   "pygments_lexer": "ipython3",
   "version": "3.7.1"
  }
 },
 "nbformat": 4,
 "nbformat_minor": 2
}
